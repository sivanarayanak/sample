{
 "cells": [
  {
   "cell_type": "code",
   "execution_count": 2,
   "id": "a9c86bd7",
   "metadata": {},
   "outputs": [
    {
     "name": "stdout",
     "output_type": "stream",
     "text": [
      "202306\n",
      "3\n",
      "{'prev_date': '202305', 'prev_quater': 'Q2_2023', 'future_date': '202405', 'future_quater': 'Q4_2023'}\n"
     ]
    }
   ],
   "source": [
    "def example(currdate,q):\n",
    "    n=len(currdate)\n",
    "    mm=int(currdate[n-2:])\n",
    "    y=int(currdate[:n-2])\n",
    "    if (mm<10):\n",
    "        if(mm!=1):\n",
    "            prev_month=currdate[:n-2]+\"0\"+str(mm-1)\n",
    "            future_date=str(y+1)+\"0\"+str(mm-1)\n",
    "        else:\n",
    "            prev_month=str(y-1)+\"12\"\n",
    "            future_date=str(y)+\"12\"\n",
    "    else:\n",
    "        prev_month=currdate[:n-2]+str(mm-1)\n",
    "        future_date=str(y+1)+str(mm-1)\n",
    "        \n",
    "    if (q==1):\n",
    "        prev_quater=\"Q\"+str(q+3)+\"_\"+str(y-1)\n",
    "    else:\n",
    "        prev_quater=\"Q\"+str(q-1)+\"_\"+str(y)\n",
    "#     future_date=str(y+1)+\"0\"+str(mm-1)\n",
    "    if (q==4):\n",
    "        \n",
    "        future_quater=\"Q\"+str(q-3)+\"_\"+str(y+1)\n",
    "    else:\n",
    "        future_quater=\"Q\"+str(q+1)+\"_\"+str(y)\n",
    "\n",
    "    dict1=dict({'prev_date':prev_month,'prev_quater':prev_quater,'future_date':future_date,'future_quater':future_quater})\n",
    "    return dict1\n",
    "def main():\n",
    "    curr_date=input()\n",
    "    quater=int(input())\n",
    "    print(example(curr_date,quater))\n",
    "if __name__ == \"__main__\":\n",
    "    main()\n"
   ]
  },
  {
   "cell_type": "code",
   "execution_count": null,
   "id": "3c258d1a",
   "metadata": {},
   "outputs": [],
   "source": []
  },
  {
   "cell_type": "code",
   "execution_count": null,
   "id": "dce2fb34",
   "metadata": {},
   "outputs": [],
   "source": []
  }
 ],
 "metadata": {
  "kernelspec": {
   "display_name": "Python 3 (ipykernel)",
   "language": "python",
   "name": "python3"
  },
  "language_info": {
   "codemirror_mode": {
    "name": "ipython",
    "version": 3
   },
   "file_extension": ".py",
   "mimetype": "text/x-python",
   "name": "python",
   "nbconvert_exporter": "python",
   "pygments_lexer": "ipython3",
   "version": "3.11.3"
  }
 },
 "nbformat": 4,
 "nbformat_minor": 5
}
